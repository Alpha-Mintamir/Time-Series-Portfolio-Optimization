{
 "cells": [
  {
   "cell_type": "markdown",
   "metadata": {},
   "source": [
    "# Importing necessary libraries"
   ]
  },
  {
   "cell_type": "code",
   "execution_count": 1,
   "metadata": {},
   "outputs": [],
   "source": [
    "import pandas as pd\n",
    "import sys \n",
    "import os\n",
    "sys.path.append(os.path.abspath('../scripts'))"
   ]
  },
  {
   "cell_type": "code",
   "execution_count": 2,
   "metadata": {},
   "outputs": [],
   "source": [
    "from data_preprocesesing import *"
   ]
  },
  {
   "cell_type": "markdown",
   "metadata": {},
   "source": [
    "# Extracting historical financial data"
   ]
  },
  {
   "cell_type": "code",
   "execution_count": 3,
   "metadata": {},
   "outputs": [],
   "source": [
    "tsla_df = pd.DataFrame(get_stock_data(\"TSLA\"))\n",
    "spy_df = pd.DataFrame(get_stock_data(\"SPY\"))\n",
    "bnd_df = pd.DataFrame(get_stock_data(\"BND\"))"
   ]
  },
  {
   "cell_type": "markdown",
   "metadata": {},
   "source": [
    "# Understanding the data"
   ]
  },
  {
   "cell_type": "markdown",
   "metadata": {},
   "source": [
    "## 1. Tesla Inc. (TSLA)"
   ]
  },
  {
   "cell_type": "code",
   "execution_count": 4,
   "metadata": {},
   "outputs": [
    {
     "name": "stdout",
     "output_type": "stream",
     "text": [
      "Data Shape: (2481, 5)\n",
      "Data Head:\n",
      "                                Open       High        Low      Close  \\\n",
      "Date                                                                    \n",
      "2015-01-02 00:00:00-05:00  14.858000  14.883333  14.217333  14.620667   \n",
      "2015-01-05 00:00:00-05:00  14.303333  14.433333  13.810667  14.006000   \n",
      "2015-01-06 00:00:00-05:00  14.004000  14.280000  13.614000  14.085333   \n",
      "2015-01-07 00:00:00-05:00  14.223333  14.318667  13.985333  14.063333   \n",
      "2015-01-08 00:00:00-05:00  14.187333  14.253333  14.000667  14.041333   \n",
      "\n",
      "                             Volume  \n",
      "Date                                 \n",
      "2015-01-02 00:00:00-05:00  71466000  \n",
      "2015-01-05 00:00:00-05:00  80527500  \n",
      "2015-01-06 00:00:00-05:00  93928500  \n",
      "2015-01-07 00:00:00-05:00  44526000  \n",
      "2015-01-08 00:00:00-05:00  51637500  \n",
      "Data Description:\n",
      "              Open         High          Low        Close        Volume\n",
      "count  2481.000000  2481.000000  2481.000000  2481.000000  2.481000e+03\n",
      "mean    111.902984   114.354807   109.303796   111.890274  1.125585e+08\n",
      "std     110.370142   112.824498   107.706078   110.302138  7.444520e+07\n",
      "min       9.488000    10.331333     9.403333     9.578000  1.062000e+07\n",
      "25%      17.099333    17.386667    16.799999    17.086000  6.682080e+07\n",
      "50%      25.093332    25.509333    24.648666    25.166000  9.288270e+07\n",
      "75%     217.896667   222.166672   212.529999   217.733337  1.301955e+08\n",
      "max     411.470001   414.496674   405.666656   409.970001  9.140820e+08\n",
      "Data Info:\n",
      "<class 'pandas.core.frame.DataFrame'>\n",
      "DatetimeIndex: 2481 entries, 2015-01-02 00:00:00-05:00 to 2024-11-08 00:00:00-05:00\n",
      "Data columns (total 5 columns):\n",
      " #   Column  Non-Null Count  Dtype  \n",
      "---  ------  --------------  -----  \n",
      " 0   Open    2481 non-null   float64\n",
      " 1   High    2481 non-null   float64\n",
      " 2   Low     2481 non-null   float64\n",
      " 3   Close   2481 non-null   float64\n",
      " 4   Volume  2481 non-null   int64  \n",
      "dtypes: float64(4), int64(1)\n",
      "memory usage: 116.3 KB\n",
      "\n",
      "Data Columns: ['Open', 'High', 'Low', 'Close', 'Volume']\n",
      "Data Null Values:\n",
      "Open      0\n",
      "High      0\n",
      "Low       0\n",
      "Close     0\n",
      "Volume    0\n",
      "dtype: int64\n"
     ]
    }
   ],
   "source": [
    "data_understanding(tsla_df)"
   ]
  },
  {
   "cell_type": "markdown",
   "metadata": {},
   "source": [
    "## 1. Spyder Trust (SPY)"
   ]
  },
  {
   "cell_type": "code",
   "execution_count": 5,
   "metadata": {},
   "outputs": [
    {
     "name": "stdout",
     "output_type": "stream",
     "text": [
      "Data Shape: (2481, 6)\n",
      "Data Head:\n",
      "                                 Open        High         Low       Close  \\\n",
      "Date                                                                        \n",
      "2015-01-02 00:00:00-05:00  173.974595  174.396086  172.120025  173.173752   \n",
      "2015-01-05 00:00:00-05:00  172.111629  172.280223  169.734426  170.046326   \n",
      "2015-01-06 00:00:00-05:00  170.358247  170.889330  167.635418  168.444687   \n",
      "2015-01-07 00:00:00-05:00  169.793402  170.889281  169.338198  170.543655   \n",
      "2015-01-08 00:00:00-05:00  171.976802  173.789221  171.959952  173.570038   \n",
      "\n",
      "                              Volume  Capital Gains  \n",
      "Date                                                 \n",
      "2015-01-02 00:00:00-05:00  121465900            0.0  \n",
      "2015-01-05 00:00:00-05:00  169632600            0.0  \n",
      "2015-01-06 00:00:00-05:00  209151400            0.0  \n",
      "2015-01-07 00:00:00-05:00  125346700            0.0  \n",
      "2015-01-08 00:00:00-05:00  147217800            0.0  \n",
      "Data Description:\n",
      "              Open         High          Low        Close        Volume  \\\n",
      "count  2481.000000  2481.000000  2481.000000  2481.000000  2.481000e+03   \n",
      "mean    310.966816   312.664403   309.125097   311.018675  8.799330e+07   \n",
      "std     112.004018   112.584631   111.368794   112.024012  4.490370e+07   \n",
      "min     156.881213   158.395486   155.197526   157.328613  2.027000e+07   \n",
      "25%     215.169996   215.637870   214.037402   214.852280  5.952860e+07   \n",
      "50%     275.804969   277.168044   274.385945   276.051117  7.685750e+07   \n",
      "75%     403.083512   404.548586   400.283861   402.683655  1.025859e+08   \n",
      "max     596.169983   599.640015   596.169983   598.190002  5.072443e+08   \n",
      "\n",
      "       Capital Gains  \n",
      "count         2481.0  \n",
      "mean             0.0  \n",
      "std              0.0  \n",
      "min              0.0  \n",
      "25%              0.0  \n",
      "50%              0.0  \n",
      "75%              0.0  \n",
      "max              0.0  \n",
      "Data Info:\n",
      "<class 'pandas.core.frame.DataFrame'>\n",
      "DatetimeIndex: 2481 entries, 2015-01-02 00:00:00-05:00 to 2024-11-08 00:00:00-05:00\n",
      "Data columns (total 6 columns):\n",
      " #   Column         Non-Null Count  Dtype  \n",
      "---  ------         --------------  -----  \n",
      " 0   Open           2481 non-null   float64\n",
      " 1   High           2481 non-null   float64\n",
      " 2   Low            2481 non-null   float64\n",
      " 3   Close          2481 non-null   float64\n",
      " 4   Volume         2481 non-null   int64  \n",
      " 5   Capital Gains  2481 non-null   float64\n",
      "dtypes: float64(5), int64(1)\n",
      "memory usage: 135.7 KB\n",
      "\n",
      "Data Columns: ['Open', 'High', 'Low', 'Close', 'Volume', 'Capital Gains']\n",
      "Data Null Values:\n",
      "Open             0\n",
      "High             0\n",
      "Low              0\n",
      "Close            0\n",
      "Volume           0\n",
      "Capital Gains    0\n",
      "dtype: int64\n"
     ]
    }
   ],
   "source": [
    "data_understanding(spy_df)"
   ]
  },
  {
   "cell_type": "markdown",
   "metadata": {},
   "source": [
    "## 3. Bnd (BND)"
   ]
  },
  {
   "cell_type": "code",
   "execution_count": 6,
   "metadata": {},
   "outputs": [
    {
     "name": "stdout",
     "output_type": "stream",
     "text": [
      "Data Shape: (2481, 6)\n",
      "Data Head:\n",
      "                                Open       High        Low      Close  \\\n",
      "Date                                                                    \n",
      "2015-01-02 00:00:00-05:00  63.190106  63.389421  63.182438  63.358757   \n",
      "2015-01-05 00:00:00-05:00  63.427758  63.565744  63.397093  63.542747   \n",
      "2015-01-06 00:00:00-05:00  63.650076  63.918382  63.650076  63.726734   \n",
      "2015-01-07 00:00:00-05:00  63.734369  63.841692  63.665379  63.765034   \n",
      "2015-01-08 00:00:00-05:00  63.711376  63.711376  63.604054  63.665382   \n",
      "\n",
      "                            Volume  Capital Gains  \n",
      "Date                                               \n",
      "2015-01-02 00:00:00-05:00  2218800            0.0  \n",
      "2015-01-05 00:00:00-05:00  5820100            0.0  \n",
      "2015-01-06 00:00:00-05:00  3887600            0.0  \n",
      "2015-01-07 00:00:00-05:00  2433400            0.0  \n",
      "2015-01-08 00:00:00-05:00  1873400            0.0  \n",
      "Data Description:\n",
      "              Open         High          Low        Close        Volume  \\\n",
      "count  2481.000000  2481.000000  2481.000000  2481.000000  2.481000e+03   \n",
      "mean     70.099923    70.199042    69.992362    70.096920  4.174983e+06   \n",
      "std       4.885777     4.893096     4.875017     4.885157  2.776826e+06   \n",
      "min      62.668556    62.715010    62.598858    62.637577  0.000000e+00   \n",
      "25%      66.318925    66.409829    66.253986    66.327965  2.030200e+06   \n",
      "50%      68.949652    69.079269    68.801715    68.914566  3.722400e+06   \n",
      "75%      73.759108    73.858755    73.653422    73.801575  5.537500e+06   \n",
      "max      79.875386    79.911059    79.777263    79.812943  3.193720e+07   \n",
      "\n",
      "       Capital Gains  \n",
      "count         2481.0  \n",
      "mean             0.0  \n",
      "std              0.0  \n",
      "min              0.0  \n",
      "25%              0.0  \n",
      "50%              0.0  \n",
      "75%              0.0  \n",
      "max              0.0  \n",
      "Data Info:\n",
      "<class 'pandas.core.frame.DataFrame'>\n",
      "DatetimeIndex: 2481 entries, 2015-01-02 00:00:00-05:00 to 2024-11-08 00:00:00-05:00\n",
      "Data columns (total 6 columns):\n",
      " #   Column         Non-Null Count  Dtype  \n",
      "---  ------         --------------  -----  \n",
      " 0   Open           2481 non-null   float64\n",
      " 1   High           2481 non-null   float64\n",
      " 2   Low            2481 non-null   float64\n",
      " 3   Close          2481 non-null   float64\n",
      " 4   Volume         2481 non-null   int64  \n",
      " 5   Capital Gains  2481 non-null   float64\n",
      "dtypes: float64(5), int64(1)\n",
      "memory usage: 135.7 KB\n",
      "\n",
      "Data Columns: ['Open', 'High', 'Low', 'Close', 'Volume', 'Capital Gains']\n",
      "Data Null Values:\n",
      "Open             0\n",
      "High             0\n",
      "Low              0\n",
      "Close            0\n",
      "Volume           0\n",
      "Capital Gains    0\n",
      "dtype: int64\n"
     ]
    }
   ],
   "source": [
    "data_understanding(bnd_df)"
   ]
  },
  {
   "cell_type": "markdown",
   "metadata": {},
   "source": [
    "# Null values "
   ]
  },
  {
   "cell_type": "markdown",
   "metadata": {},
   "source": [
    "## 1. Tesla Inc. (TSLA)"
   ]
  },
  {
   "cell_type": "code",
   "execution_count": 9,
   "metadata": {},
   "outputs": [
    {
     "data": {
      "text/html": [
       "<div>\n",
       "<style scoped>\n",
       "    .dataframe tbody tr th:only-of-type {\n",
       "        vertical-align: middle;\n",
       "    }\n",
       "\n",
       "    .dataframe tbody tr th {\n",
       "        vertical-align: top;\n",
       "    }\n",
       "\n",
       "    .dataframe thead th {\n",
       "        text-align: right;\n",
       "    }\n",
       "</style>\n",
       "<table border=\"1\" class=\"dataframe\">\n",
       "  <thead>\n",
       "    <tr style=\"text-align: right;\">\n",
       "      <th></th>\n",
       "      <th>Missing Values</th>\n",
       "      <th>% of Total Values</th>\n",
       "    </tr>\n",
       "  </thead>\n",
       "  <tbody>\n",
       "  </tbody>\n",
       "</table>\n",
       "</div>"
      ],
      "text/plain": [
       "Empty DataFrame\n",
       "Columns: [Missing Values, % of Total Values]\n",
       "Index: []"
      ]
     },
     "execution_count": 9,
     "metadata": {},
     "output_type": "execute_result"
    }
   ],
   "source": [
    "missing_values_table(tsla_df)"
   ]
  },
  {
   "cell_type": "markdown",
   "metadata": {},
   "source": [
    "## 2. Spyder Trust (SPY)"
   ]
  },
  {
   "cell_type": "code",
   "execution_count": 10,
   "metadata": {},
   "outputs": [
    {
     "data": {
      "text/html": [
       "<div>\n",
       "<style scoped>\n",
       "    .dataframe tbody tr th:only-of-type {\n",
       "        vertical-align: middle;\n",
       "    }\n",
       "\n",
       "    .dataframe tbody tr th {\n",
       "        vertical-align: top;\n",
       "    }\n",
       "\n",
       "    .dataframe thead th {\n",
       "        text-align: right;\n",
       "    }\n",
       "</style>\n",
       "<table border=\"1\" class=\"dataframe\">\n",
       "  <thead>\n",
       "    <tr style=\"text-align: right;\">\n",
       "      <th></th>\n",
       "      <th>Missing Values</th>\n",
       "      <th>% of Total Values</th>\n",
       "    </tr>\n",
       "  </thead>\n",
       "  <tbody>\n",
       "  </tbody>\n",
       "</table>\n",
       "</div>"
      ],
      "text/plain": [
       "Empty DataFrame\n",
       "Columns: [Missing Values, % of Total Values]\n",
       "Index: []"
      ]
     },
     "execution_count": 10,
     "metadata": {},
     "output_type": "execute_result"
    }
   ],
   "source": [
    "missing_values_table(spy_df)"
   ]
  },
  {
   "cell_type": "markdown",
   "metadata": {},
   "source": [
    "## 3. Bnd (BND)"
   ]
  },
  {
   "cell_type": "code",
   "execution_count": 11,
   "metadata": {},
   "outputs": [
    {
     "data": {
      "text/html": [
       "<div>\n",
       "<style scoped>\n",
       "    .dataframe tbody tr th:only-of-type {\n",
       "        vertical-align: middle;\n",
       "    }\n",
       "\n",
       "    .dataframe tbody tr th {\n",
       "        vertical-align: top;\n",
       "    }\n",
       "\n",
       "    .dataframe thead th {\n",
       "        text-align: right;\n",
       "    }\n",
       "</style>\n",
       "<table border=\"1\" class=\"dataframe\">\n",
       "  <thead>\n",
       "    <tr style=\"text-align: right;\">\n",
       "      <th></th>\n",
       "      <th>Missing Values</th>\n",
       "      <th>% of Total Values</th>\n",
       "    </tr>\n",
       "  </thead>\n",
       "  <tbody>\n",
       "  </tbody>\n",
       "</table>\n",
       "</div>"
      ],
      "text/plain": [
       "Empty DataFrame\n",
       "Columns: [Missing Values, % of Total Values]\n",
       "Index: []"
      ]
     },
     "execution_count": 11,
     "metadata": {},
     "output_type": "execute_result"
    }
   ],
   "source": [
    "missing_values_table(bnd_df)"
   ]
  },
  {
   "cell_type": "markdown",
   "metadata": {},
   "source": [
    "### *since there are no null values in the data, we can proceed with the analysis"
   ]
  },
  {
   "cell_type": "markdown",
   "metadata": {},
   "source": [
    "## Data types"
   ]
  },
  {
   "cell_type": "code",
   "execution_count": 14,
   "metadata": {},
   "outputs": [
    {
     "name": "stdout",
     "output_type": "stream",
     "text": [
      "Open      float64\n",
      "High      float64\n",
      "Low       float64\n",
      "Close     float64\n",
      "Volume      int64\n",
      "dtype: object\n",
      "Open             float64\n",
      "High             float64\n",
      "Low              float64\n",
      "Close            float64\n",
      "Volume             int64\n",
      "Capital Gains    float64\n",
      "dtype: object\n",
      "Open             float64\n",
      "High             float64\n",
      "Low              float64\n",
      "Close            float64\n",
      "Volume             int64\n",
      "Capital Gains    float64\n",
      "dtype: object\n"
     ]
    }
   ],
   "source": [
    "data_frames = [tsla_df, spy_df, bnd_df]\n",
    "for data_frame in data_frames:\n",
    "    data_frame = data_frame.dtypes\n",
    "    print(data_frame)"
   ]
  },
  {
   "cell_type": "markdown",
   "metadata": {},
   "source": [
    "### *The data types of the columns in the dataframes are correct and we can proceed with the analysis"
   ]
  },
  {
   "cell_type": "markdown",
   "metadata": {},
   "source": [
    "## Exporting the data to a csv file for further analysis(like EDA)"
   ]
  },
  {
   "cell_type": "code",
   "execution_count": 18,
   "metadata": {},
   "outputs": [],
   "source": [
    "tsla_df.to_csv(\"../data/tsla.csv\")\n",
    "spy_df.to_csv(\"../data/spy.csv\")\n",
    "bnd_df.to_csv(\"../data/bnd.csv\")"
   ]
  }
 ],
 "metadata": {
  "kernelspec": {
   "display_name": "venv",
   "language": "python",
   "name": "python3"
  },
  "language_info": {
   "codemirror_mode": {
    "name": "ipython",
    "version": 3
   },
   "file_extension": ".py",
   "mimetype": "text/x-python",
   "name": "python",
   "nbconvert_exporter": "python",
   "pygments_lexer": "ipython3",
   "version": "3.8.0"
  }
 },
 "nbformat": 4,
 "nbformat_minor": 2
}
